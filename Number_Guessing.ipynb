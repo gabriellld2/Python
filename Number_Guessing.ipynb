{
  "nbformat": 4,
  "nbformat_minor": 0,
  "metadata": {
    "colab": {
      "name": "Number Guessing.ipynb",
      "provenance": []
    },
    "kernelspec": {
      "name": "python3",
      "display_name": "Python 3"
    }
  },
  "cells": [
    {
      "cell_type": "markdown",
      "metadata": {
        "id": "xsfGHnVx5ADy",
        "colab_type": "text"
      },
      "source": [
        "**Number Guessing**\n",
        "\n",
        "**Ache o número**\n",
        "\n"
      ]
    },
    {
      "cell_type": "code",
      "metadata": {
        "id": "XyKWnaOY42O2",
        "colab_type": "code",
        "colab": {}
      },
      "source": [
        "import numpy as np"
      ],
      "execution_count": 1,
      "outputs": []
    },
    {
      "cell_type": "code",
      "metadata": {
        "id": "CnXnAmCd5cHo",
        "colab_type": "code",
        "colab": {
          "base_uri": "https://localhost:8080/",
          "height": 34
        },
        "outputId": "123a52d9-2f32-46fd-cd35-338d54d4fdcd"
      },
      "source": [
        "Num = np.random.randint(0,100)\n",
        "Num"
      ],
      "execution_count": 6,
      "outputs": [
        {
          "output_type": "execute_result",
          "data": {
            "text/plain": [
              "21"
            ]
          },
          "metadata": {
            "tags": []
          },
          "execution_count": 6
        }
      ]
    },
    {
      "cell_type": "code",
      "metadata": {
        "id": "AZB4ZhhS5mzc",
        "colab_type": "code",
        "colab": {
          "base_uri": "https://localhost:8080/",
          "height": 187
        },
        "outputId": "74fe6372-c32c-41d4-dafd-b052778e9291"
      },
      "source": [
        "Player = int(input(\"Digite um Número entre 0 e 100\\n\"))\n",
        "cont = 1\n",
        "while Player != Num:\n",
        "    if(Player < Num):\n",
        "      print(\"Seu palpite era baixo, por favor, digite um número maior.\")\n",
        "      Player = int(input(\"Digite um novo número: \"))\n",
        "      cont +=1\n",
        "    elif (Player > Num):\n",
        "      print(\"Seu palpite era alto, por favor, digite um número menor.\")\n",
        "      Player = int(input(\"Digite um novo número: \"))\n",
        "      cont +=1\n",
        "\n",
        "\n",
        "print(\"Acertou\") \n",
        "print(f'Número de curvas que você usou: {cont}')\n"
      ],
      "execution_count": 10,
      "outputs": [
        {
          "output_type": "stream",
          "text": [
            "Digite um Número entre 0 e 100\n",
            "20\n",
            "Seu palpite era baixo, por favor, digite um número maior.\n",
            "Digite um novo número: 30\n",
            "Seu palpite era alto, por favor, digite um número menor.\n",
            "Digite um novo número: 25\n",
            "Seu palpite era alto, por favor, digite um número menor.\n",
            "Digite um novo número: 21\n",
            "Acertou\n",
            "Número de curvas que você usou: 4\n"
          ],
          "name": "stdout"
        }
      ]
    },
    {
      "cell_type": "code",
      "metadata": {
        "id": "SpzKlqAI7eTO",
        "colab_type": "code",
        "colab": {}
      },
      "source": [
        ""
      ],
      "execution_count": null,
      "outputs": []
    }
  ]
}