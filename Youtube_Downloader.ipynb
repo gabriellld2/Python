{
  "nbformat": 4,
  "nbformat_minor": 0,
  "metadata": {
    "colab": {
      "name": "Youtube Downloader.ipynb",
      "provenance": []
    },
    "kernelspec": {
      "name": "python3",
      "display_name": "Python 3"
    }
  },
  "cells": [
    {
      "cell_type": "code",
      "metadata": {
        "id": "S4fxT2LyEVp4",
        "colab_type": "code",
        "colab": {}
      },
      "source": [
        "from pytube import YouTube"
      ],
      "execution_count": 9,
      "outputs": []
    },
    {
      "cell_type": "code",
      "metadata": {
        "id": "CCWexu2REaav",
        "colab_type": "code",
        "colab": {}
      },
      "source": [
        "url = \"https://www.youtube.com/watch?v=Gs1FZ-3_k-E&ab_channel=INTZ\"\n",
        "\n",
        "yt = YouTube(url)"
      ],
      "execution_count": 10,
      "outputs": []
    },
    {
      "cell_type": "code",
      "metadata": {
        "id": "Pe0O8xqTEhtU",
        "colab_type": "code",
        "colab": {
          "base_uri": "https://localhost:8080/",
          "height": 119
        },
        "outputId": "1df3b2a8-8eb2-4e47-8bce-e3773aed70b2"
      },
      "source": [
        "print('Título',yt.title)\n",
        "print('Visualizações',yt.views)\n",
        "print('tamanho do vídeo', yt.length)\n",
        "print('Estrelas do vídeo', yt.rating)\n",
        "\n",
        "ys = yt.streams.get_highest_resolution()\n",
        "\n",
        "print('Baixando...')\n",
        "ys.download()\n",
        "print('Baixado com sucesso!!')"
      ],
      "execution_count": 12,
      "outputs": [
        {
          "output_type": "stream",
          "text": [
            "Título OS CARA PEGA NOSSA CALL, E FAZ MELHOR?? AI NÃO PODE\n",
            "Visualizações 28755\n",
            "tamanho do vídeo 829\n",
            "Estrelas do vídeo 4.9791803\n",
            "Baixando...\n",
            "Baixado com sucesso!!\n"
          ],
          "name": "stdout"
        }
      ]
    },
    {
      "cell_type": "code",
      "metadata": {
        "id": "yl9PjwgQHGBS",
        "colab_type": "code",
        "colab": {}
      },
      "source": [
        ""
      ],
      "execution_count": null,
      "outputs": []
    }
  ]
}