{
  "nbformat": 4,
  "nbformat_minor": 0,
  "metadata": {
    "colab": {
      "name": "Dice Simulator.ipynb",
      "provenance": []
    },
    "kernelspec": {
      "name": "python3",
      "display_name": "Python 3"
    }
  },
  "cells": [
    {
      "cell_type": "code",
      "metadata": {
        "id": "OpM3kxtk98MF",
        "colab_type": "code",
        "colab": {}
      },
      "source": [
        "import numpy as np"
      ],
      "execution_count": 2,
      "outputs": []
    },
    {
      "cell_type": "code",
      "metadata": {
        "id": "7TZlLXBb9-5c",
        "colab_type": "code",
        "colab": {}
      },
      "source": [
        "num = np.random.randint(1,6)\n",
        "jogar = True\n",
        "acul_numero = 0\n",
        "print(num)\n",
        "while jogar == True:\n",
        "  acul_numero += num\n",
        "  resp = input(\"Você deseja jogar novamente? \\n\")\n",
        "  if(resp == \"sim\" or resp == \"Sim\" or resp == \"s\"):\n",
        "    num = np.random.randint(1,6)\n",
        "    print(f\"\\n{num}\\n\")\n",
        "    jogar = True\n",
        "  else:\n",
        "    jogar = False\n",
        "\n",
        "\n",
        "print(f'\\nO numero final é {acul_numero}')"
      ],
      "execution_count": null,
      "outputs": []
    },
    {
      "cell_type": "code",
      "metadata": {
        "id": "2RSMIrvYAEiE",
        "colab_type": "code",
        "colab": {}
      },
      "source": [
        ""
      ],
      "execution_count": null,
      "outputs": []
    }
  ]
}